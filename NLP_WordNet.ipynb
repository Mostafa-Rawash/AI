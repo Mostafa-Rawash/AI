{
  "nbformat": 4,
  "nbformat_minor": 0,
  "metadata": {
    "colab": {
      "name": "NLP WordNet.ipynb",
      "provenance": [],
      "collapsed_sections": [],
      "authorship_tag": "ABX9TyPYtbt3aB+0dPxBB4oag6+3",
      "include_colab_link": true
    },
    "kernelspec": {
      "name": "python3",
      "display_name": "Python 3"
    },
    "language_info": {
      "name": "python"
    }
  },
  "cells": [
    {
      "cell_type": "markdown",
      "metadata": {
        "id": "view-in-github",
        "colab_type": "text"
      },
      "source": [
        "<a href=\"https://colab.research.google.com/github/Mostafa-Rawash/AI/blob/main/NLP_WordNet.ipynb\" target=\"_parent\"><img src=\"https://colab.research.google.com/assets/colab-badge.svg\" alt=\"Open In Colab\"/></a>"
      ]
    },
    {
      "cell_type": "code",
      "execution_count": 1,
      "metadata": {
        "colab": {
          "base_uri": "https://localhost:8080/"
        },
        "id": "eOYsDDhbywEO",
        "outputId": "f47c2da9-d40c-470b-bd87-1b68d866992b"
      },
      "outputs": [
        {
          "output_type": "stream",
          "name": "stdout",
          "text": [
            "[nltk_data] Downloading package wordnet to /root/nltk_data...\n",
            "[nltk_data]   Unzipping corpora/wordnet.zip.\n"
          ]
        }
      ],
      "source": [
        "import nltk \n",
        "nltk.download('wordnet')\n",
        "from nltk.corpus import wordnet as wn\n"
      ]
    },
    {
      "cell_type": "code",
      "source": [
        "def synonym_antonym_extractor():\n",
        "     synonyms = []\n",
        "     antonyms = []\n",
        "     word = input(\"enter the word that u want to get Synonyms list and Antonyms list : \")\n",
        "     for syn in wn.synsets(word):\n",
        "          for l in syn.lemmas():\n",
        "               synonyms.append(l.name())\n",
        "               if l.antonyms():\n",
        "                    antonyms.append(l.antonyms()[0].name())\n",
        "\n",
        "     print(f\"the synonyms words of word {word} is  : {set(synonyms)}\")\n",
        "     print(f\"the antonyms words of word {word} is  : {set(antonyms)}\")\n",
        "\n",
        "\n",
        "def get_synonym_meaning(word):\n",
        "     synonyms = []\n",
        "     for syn in wn.synsets(word):\n",
        "          for l in syn.lemmas():\n",
        "               synonyms.append(l.name())\n",
        "     print(f\"the synonyms words of word {word} is  : {set(synonyms)}\")\n",
        "\n",
        "\n",
        "\n",
        "# word similarity take two word to compare the similarity of them \n",
        "# by get synonyms sets and get first opject of this list them compare the two lists \n",
        "def word_similarity(word1 , word2):\n",
        "      w1 =  wn.synsets(word1)[0]\n",
        "      w2 =  wn.synsets(word2)[0]\n",
        "      similarity = w1.wup_similarity(w2)\n",
        "      print(f\"similarity between { word1 } and { word2 } is : {similarity}\")\n",
        "\n",
        "\n"
      ],
      "metadata": {
        "id": "P7m6UB7Vy2rJ"
      },
      "execution_count": 7,
      "outputs": []
    },
    {
      "cell_type": "code",
      "source": [
        "get_synonym_meaning(\"play\")\n"
      ],
      "metadata": {
        "colab": {
          "base_uri": "https://localhost:8080/"
        },
        "id": "Sj9i6w5azPMk",
        "outputId": "cf82cf33-19a1-4623-c30e-0fbd51b62813"
      },
      "execution_count": 8,
      "outputs": [
        {
          "output_type": "stream",
          "name": "stdout",
          "text": [
            "the synonyms words of word news is  : {'intelligence', 'word', 'news', 'news_show', 'newsworthiness', 'news_program', 'tidings'}\n"
          ]
        }
      ]
    },
    {
      "cell_type": "code",
      "source": [
        "synonym_antonym_extractor()"
      ],
      "metadata": {
        "colab": {
          "base_uri": "https://localhost:8080/"
        },
        "id": "ydzg1LYw4FlL",
        "outputId": "5c461bb7-d443-4b8f-fcbf-061ec80fc205"
      },
      "execution_count": 9,
      "outputs": [
        {
          "output_type": "stream",
          "name": "stdout",
          "text": [
            "enter the word that u want to get Synonyms list and Antonyms list : news\n",
            "the synonyms words of word news is  : {'intelligence', 'word', 'news', 'news_show', 'newsworthiness', 'news_program', 'tidings'}\n",
            "the antonyms words of word news is  : set()\n"
          ]
        }
      ]
    },
    {
      "cell_type": "code",
      "source": [
        "word_similarity(\"car\" , \"bicycle\")\n",
        "word_similarity(\"car\" , \"gasoline\")\n"
      ],
      "metadata": {
        "colab": {
          "base_uri": "https://localhost:8080/"
        },
        "id": "e0d5XTCvzj8p",
        "outputId": "43ec21ac-c6d3-4f63-8b4a-45401edec6a5"
      },
      "execution_count": 4,
      "outputs": [
        {
          "output_type": "stream",
          "name": "stdout",
          "text": [
            "similarity between car and bicycle is : 0.7272727272727273\n",
            "similarity between car and gasoline is : 0.23529411764705882\n"
          ]
        }
      ]
    }
  ]
}